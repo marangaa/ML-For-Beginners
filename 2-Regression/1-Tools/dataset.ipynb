{
 "cells": [
  {
   "cell_type": "code",
   "execution_count": 1,
   "id": "initial_id",
   "metadata": {
    "collapsed": true,
    "ExecuteTime": {
     "end_time": "2024-02-27T14:44:10.380195500Z",
     "start_time": "2024-02-27T14:44:07.581659700Z"
    }
   },
   "outputs": [],
   "source": [
    "from sklearn.datasets import make_regression"
   ]
  },
  {
   "cell_type": "markdown",
   "source": [
    "multi-output regression dataset"
   ],
   "metadata": {
    "collapsed": false
   },
   "id": "9be79e9adbd1e8a3"
  },
  {
   "cell_type": "code",
   "outputs": [],
   "source": [
    "X, y = make_regression(n_samples=1000, n_features=10, n_informative=5, n_targets=3, random_state=2)"
   ],
   "metadata": {
    "collapsed": false,
    "ExecuteTime": {
     "end_time": "2024-02-27T14:46:35.494652300Z",
     "start_time": "2024-02-27T14:46:35.464686600Z"
    }
   },
   "id": "332983275e06014",
   "execution_count": 2
  },
  {
   "cell_type": "markdown",
   "source": [
    "summarizing the shape"
   ],
   "metadata": {
    "collapsed": false
   },
   "id": "9252cf7260fb2041"
  },
  {
   "cell_type": "code",
   "outputs": [
    {
     "name": "stdout",
     "output_type": "stream",
     "text": [
      "input shape: (1000, 10), output shape: (1000, 3)\n"
     ]
    }
   ],
   "source": [
    "print(f\"input shape: {X.shape}, output shape: {y.shape}\")"
   ],
   "metadata": {
    "collapsed": false,
    "ExecuteTime": {
     "end_time": "2024-02-27T14:47:11.129324Z",
     "start_time": "2024-02-27T14:47:11.120360500Z"
    }
   },
   "id": "d0183a97c386852c",
   "execution_count": 3
  }
 ],
 "metadata": {
  "kernelspec": {
   "display_name": "Python 3",
   "language": "python",
   "name": "python3"
  },
  "language_info": {
   "codemirror_mode": {
    "name": "ipython",
    "version": 2
   },
   "file_extension": ".py",
   "mimetype": "text/x-python",
   "name": "python",
   "nbconvert_exporter": "python",
   "pygments_lexer": "ipython2",
   "version": "2.7.6"
  }
 },
 "nbformat": 4,
 "nbformat_minor": 5
}
